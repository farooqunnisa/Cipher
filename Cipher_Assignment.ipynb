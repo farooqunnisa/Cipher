{
 "cells": [
  {
   "cell_type": "code",
   "execution_count": 2,
   "metadata": {},
   "outputs": [
    {
     "name": "stdout",
     "output_type": "stream",
     "text": [
      "4\n",
      "[({})]\n",
      "YES\n",
      "{(]}\n",
      "NO\n",
      "{[(])}\n",
      "NO\n",
      "{[]{()}}\n",
      "YES\n"
     ]
    }
   ],
   "source": [
    "def check(s):\n",
    "    if len(s)%2 !=0 : return False\n",
    "    a=[]\n",
    "    for i in s:\n",
    "        if i in [\"{\", \"(\", \"[\"]: a.append(i)\n",
    "        else:\n",
    "            if a == [] : return False\n",
    "            x=a.pop()\n",
    "            if x == \"{\" and i != \"}\": return False\n",
    "            if x == \"(\" and i != \")\": return False\n",
    "            if x == \"[\" and i != \"]\": return False\n",
    "    if a!= []: return False\n",
    "    return True\n",
    "\n",
    "t=int(input())\n",
    "for _ in range(t):\n",
    "    s=input()\n",
    "    if check(s): print(\"YES\")\n",
    "    else: print(\"NO\")"
   ]
  },
  {
   "cell_type": "code",
   "execution_count": null,
   "metadata": {},
   "outputs": [],
   "source": []
  }
 ],
 "metadata": {
  "kernelspec": {
   "display_name": "Python 3",
   "language": "python",
   "name": "python3"
  },
  "language_info": {
   "codemirror_mode": {
    "name": "ipython",
    "version": 3
   },
   "file_extension": ".py",
   "mimetype": "text/x-python",
   "name": "python",
   "nbconvert_exporter": "python",
   "pygments_lexer": "ipython3",
   "version": "3.7.3"
  }
 },
 "nbformat": 4,
 "nbformat_minor": 2
}
